{
 "cells": [
  {
   "cell_type": "code",
   "execution_count": null,
   "id": "615ce505",
   "metadata": {},
   "outputs": [],
   "source": [
    "import pandas as pd\n",
    "from sklearn.model_selection import train_test_split\n",
    "from sklearn.ensemble import RandomForestClassifier\n",
    "from sklearn.metrics import classification_report\n",
    "\n",
    "# Load processed data\n",
    "df = pd.read_csv(\"data/processed/nifty50_features.csv\")\n",
    "\n",
    "# Create target: 1 if tomorrow's close > today's close\n",
    "df['Target'] = (df['Close'].shift(-1) > df['Close']).astype(int)\n",
    "\n",
    "# Drop last row (no target for it)\n",
    "df.dropna(inplace=True)\n",
    "\n",
    "# Features & Target\n",
    "features = ['SMA20', 'SMA50', 'SMA200', 'RSI', 'MACD', 'Signal_Line']\n",
    "X = df[features]\n",
    "y = df['Target']\n",
    "\n",
    "# Train-test split\n",
    "X_train, X_test, y_train, y_test = train_test_split(X, y, test_size=0.2, shuffle=False)\n",
    "\n",
    "# Model\n",
    "model = RandomForestClassifier(n_estimators=100, random_state=42)\n",
    "model.fit(X_train, y_train)\n",
    "\n",
    "# Predictions\n",
    "y_pred = model.predict(X_test)\n",
    "\n",
    "# Evaluation\n",
    "print(classification_report(y_test, y_pred))\n"
   ]
  }
 ],
 "metadata": {
  "language_info": {
   "name": "python"
  }
 },
 "nbformat": 4,
 "nbformat_minor": 5
}
